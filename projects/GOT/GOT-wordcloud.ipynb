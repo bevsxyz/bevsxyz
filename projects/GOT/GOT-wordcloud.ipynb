{
 "cells": [
  {
   "cell_type": "markdown",
   "id": "739dfcb2",
   "metadata": {
    "papermill": {
     "duration": 0.009423,
     "end_time": "2022-11-24T15:23:47.190047",
     "exception": false,
     "start_time": "2022-11-24T15:23:47.180624",
     "status": "completed"
    },
    "tags": []
   },
   "source": [
    "# Game of Thrones: Who spoke the most, and what?"
   ]
  },
  {
   "cell_type": "markdown",
   "id": "9fc0bb41",
   "metadata": {
    "papermill": {
     "duration": 0.007785,
     "end_time": "2022-11-24T15:23:47.206666",
     "exception": false,
     "start_time": "2022-11-24T15:23:47.198881",
     "status": "completed"
    },
    "tags": []
   },
   "source": [
    "I came across the Game of Thrones script for the first time in the final project of a Python course by Internshala. The idea for the project was to simply find unique words spoken by the characters. I, for one, wanted to explore some visualizations, and here is my attempt at one. We will find the character with the maximum number of lines in the script and create a word cloud. Fairly simple stuff.\n",
    "\n",
    "> Who is the character with the maximum number of lines in the script, and what were the words they spoke the most?"
   ]
  },
  {
   "cell_type": "markdown",
   "id": "3247135b",
   "metadata": {
    "papermill": {
     "duration": 0.008127,
     "end_time": "2022-11-24T15:23:47.223249",
     "exception": false,
     "start_time": "2022-11-24T15:23:47.215122",
     "status": "completed"
    },
    "tags": []
   },
   "source": [
    "## The Dataset\n",
    "\n",
    "I found a GOT dataset in the public domain graciously delivered by Alben Tumanggor in Kaggle. We will be working with this dataset for our explorations. Here is the [link](https://www.kaggle.com/datasets/albenft/game-of-thrones-script-all-seasons) if you wanna explore it on your own.\n",
    "\n",
    "\n",
    "Going over the headers for each column and what they correspond to will give us a good start. You can find a summary in the table."
   ]
  },
  {
   "cell_type": "markdown",
   "id": "42f7c094",
   "metadata": {
    "papermill": {
     "duration": 0.007678,
     "end_time": "2022-11-24T15:23:47.239034",
     "exception": false,
     "start_time": "2022-11-24T15:23:47.231356",
     "status": "completed"
    },
    "tags": []
   },
   "source": [
    "| Header        | Description                                                | Example                                                                                                                                       |   |   |\n",
    "|---------------|------------------------------------------------------------|-------------------------------------------------------------------------------------------------------------------------------------------|---|---|\n",
    "| Release Date  | The original air date of the episode in YYYY-MM-DD format. | 2011-04-17                                                                                                                                |   |   |\n",
    "| Season        | The season number.                                         | Season 1                                                                                                                                  |   |   |\n",
    "| Episode       | The episode number.                                        | Episode 1                                                                                                                                 |   |   |\n",
    "| Episode Title | The title of the episode.                                  | Winter is Coming                                                                                                                          |   |   |\n",
    "| Name          | Name of the GOT character.                                 | waymar royce                                                                                                                              |   |   |\n",
    "| Sentence      | Sentence spoken by the character.                          | What do you expect? They're savages. One lot steals a goat from another lot and before you know it, they're ripping each other to pieces. |   |   |"
   ]
  },
  {
   "cell_type": "markdown",
   "id": "66f13643",
   "metadata": {
    "papermill": {
     "duration": 0.007659,
     "end_time": "2022-11-24T15:23:47.254627",
     "exception": false,
     "start_time": "2022-11-24T15:23:47.246968",
     "status": "completed"
    },
    "tags": []
   },
   "source": [
    "Let us import the packages that we will use for the analysis."
   ]
  },
  {
   "cell_type": "code",
   "execution_count": 1,
   "id": "ada53cf5",
   "metadata": {
    "execution": {
     "iopub.execute_input": "2022-11-24T15:23:47.275477Z",
     "iopub.status.busy": "2022-11-24T15:23:47.274385Z",
     "iopub.status.idle": "2022-11-24T15:23:47.289258Z",
     "shell.execute_reply": "2022-11-24T15:23:47.288270Z"
    },
    "papermill": {
     "duration": 0.027834,
     "end_time": "2022-11-24T15:23:47.292123",
     "exception": false,
     "start_time": "2022-11-24T15:23:47.264289",
     "status": "completed"
    },
    "tags": []
   },
   "outputs": [],
   "source": [
    "%matplotlib inline\n",
    "\n",
    "import pandas as pd\n",
    "import numpy as np\n",
    "import matplotlib.pyplot as plt\n",
    "import re"
   ]
  },
  {
   "cell_type": "markdown",
   "id": "bb1f31a6",
   "metadata": {
    "papermill": {
     "duration": 0.00789,
     "end_time": "2022-11-24T15:23:47.308170",
     "exception": false,
     "start_time": "2022-11-24T15:23:47.300280",
     "status": "completed"
    },
    "tags": []
   },
   "source": [
    "Before we read the whole dataset, I feel more comfortable having a glimpse first. So we will read five rows from the dataset to get started."
   ]
  },
  {
   "cell_type": "code",
   "execution_count": 2,
   "id": "6585436b",
   "metadata": {
    "execution": {
     "iopub.execute_input": "2022-11-24T15:23:47.326540Z",
     "iopub.status.busy": "2022-11-24T15:23:47.325896Z",
     "iopub.status.idle": "2022-11-24T15:23:47.378112Z",
     "shell.execute_reply": "2022-11-24T15:23:47.377161Z"
    },
    "papermill": {
     "duration": 0.063901,
     "end_time": "2022-11-24T15:23:47.380296",
     "exception": false,
     "start_time": "2022-11-24T15:23:47.316395",
     "status": "completed"
    },
    "tags": []
   },
   "outputs": [
    {
     "data": {
      "text/html": [
       "<div>\n",
       "<style scoped>\n",
       "    .dataframe tbody tr th:only-of-type {\n",
       "        vertical-align: middle;\n",
       "    }\n",
       "\n",
       "    .dataframe tbody tr th {\n",
       "        vertical-align: top;\n",
       "    }\n",
       "\n",
       "    .dataframe thead th {\n",
       "        text-align: right;\n",
       "    }\n",
       "</style>\n",
       "<table border=\"1\" class=\"dataframe\">\n",
       "  <thead>\n",
       "    <tr style=\"text-align: right;\">\n",
       "      <th></th>\n",
       "      <th>Release Date</th>\n",
       "      <th>Season</th>\n",
       "      <th>Episode</th>\n",
       "      <th>Episode Title</th>\n",
       "      <th>Name</th>\n",
       "      <th>Sentence</th>\n",
       "    </tr>\n",
       "  </thead>\n",
       "  <tbody>\n",
       "    <tr>\n",
       "      <th>0</th>\n",
       "      <td>2011-04-17</td>\n",
       "      <td>Season 1</td>\n",
       "      <td>Episode 1</td>\n",
       "      <td>Winter is Coming</td>\n",
       "      <td>waymar royce</td>\n",
       "      <td>What do you expect? They're savages. One lot s...</td>\n",
       "    </tr>\n",
       "    <tr>\n",
       "      <th>1</th>\n",
       "      <td>2011-04-17</td>\n",
       "      <td>Season 1</td>\n",
       "      <td>Episode 1</td>\n",
       "      <td>Winter is Coming</td>\n",
       "      <td>will</td>\n",
       "      <td>I've never seen wildlings do a thing like this...</td>\n",
       "    </tr>\n",
       "    <tr>\n",
       "      <th>2</th>\n",
       "      <td>2011-04-17</td>\n",
       "      <td>Season 1</td>\n",
       "      <td>Episode 1</td>\n",
       "      <td>Winter is Coming</td>\n",
       "      <td>waymar royce</td>\n",
       "      <td>How close did you get?</td>\n",
       "    </tr>\n",
       "    <tr>\n",
       "      <th>3</th>\n",
       "      <td>2011-04-17</td>\n",
       "      <td>Season 1</td>\n",
       "      <td>Episode 1</td>\n",
       "      <td>Winter is Coming</td>\n",
       "      <td>will</td>\n",
       "      <td>Close as any man would.</td>\n",
       "    </tr>\n",
       "    <tr>\n",
       "      <th>4</th>\n",
       "      <td>2011-04-17</td>\n",
       "      <td>Season 1</td>\n",
       "      <td>Episode 1</td>\n",
       "      <td>Winter is Coming</td>\n",
       "      <td>gared</td>\n",
       "      <td>We should head back to the wall.</td>\n",
       "    </tr>\n",
       "  </tbody>\n",
       "</table>\n",
       "</div>"
      ],
      "text/plain": [
       "  Release Date    Season    Episode     Episode Title          Name  \\\n",
       "0   2011-04-17  Season 1  Episode 1  Winter is Coming  waymar royce   \n",
       "1   2011-04-17  Season 1  Episode 1  Winter is Coming          will   \n",
       "2   2011-04-17  Season 1  Episode 1  Winter is Coming  waymar royce   \n",
       "3   2011-04-17  Season 1  Episode 1  Winter is Coming          will   \n",
       "4   2011-04-17  Season 1  Episode 1  Winter is Coming         gared   \n",
       "\n",
       "                                            Sentence  \n",
       "0  What do you expect? They're savages. One lot s...  \n",
       "1  I've never seen wildlings do a thing like this...  \n",
       "2                             How close did you get?  \n",
       "3                            Close as any man would.  \n",
       "4                   We should head back to the wall.  "
      ]
     },
     "execution_count": 2,
     "metadata": {},
     "output_type": "execute_result"
    }
   ],
   "source": [
    "input_file_path = '../input/game-of-thrones-script-all-seasons/Game_of_Thrones_Script.csv'\n",
    "df = pd.read_csv(input_file_path,nrows=5)\n",
    "df.head()"
   ]
  },
  {
   "cell_type": "markdown",
   "id": "7e61f7f6",
   "metadata": {
    "papermill": {
     "duration": 0.007983,
     "end_time": "2022-11-24T15:23:47.396799",
     "exception": false,
     "start_time": "2022-11-24T15:23:47.388816",
     "status": "completed"
    },
    "tags": []
   },
   "source": [
    "We only require the columns `Name` and `Sentence` to address our problem statement. However, I am curious about finding efficient ways to read a dataset. Further, I do hope to extend the analysis with the other variables."
   ]
  },
  {
   "cell_type": "markdown",
   "id": "c2a7647a",
   "metadata": {
    "papermill": {
     "duration": 0.007869,
     "end_time": "2022-11-24T15:23:47.412984",
     "exception": false,
     "start_time": "2022-11-24T15:23:47.405115",
     "status": "completed"
    },
    "tags": []
   },
   "source": [
    "> Pandas use an enum-like structure for a [category](https://pandas.pydata.org/docs/user_guide/categorical.html), which allows saving on storage and computation. Well, it's more complicated than an enum, but the comparison helps my understanding. Similarly, the [string](https://pandas.pydata.org/docs/user_guide/text.html) datatype is a good choice when we wish to do string manipulations from within a data frame."
   ]
  },
  {
   "cell_type": "code",
   "execution_count": 3,
   "id": "991052b9",
   "metadata": {
    "execution": {
     "iopub.execute_input": "2022-11-24T15:23:47.431675Z",
     "iopub.status.busy": "2022-11-24T15:23:47.431079Z",
     "iopub.status.idle": "2022-11-24T15:23:47.652427Z",
     "shell.execute_reply": "2022-11-24T15:23:47.651559Z"
    },
    "papermill": {
     "duration": 0.233371,
     "end_time": "2022-11-24T15:23:47.654561",
     "exception": false,
     "start_time": "2022-11-24T15:23:47.421190",
     "status": "completed"
    },
    "tags": []
   },
   "outputs": [
    {
     "data": {
      "text/html": [
       "<div>\n",
       "<style scoped>\n",
       "    .dataframe tbody tr th:only-of-type {\n",
       "        vertical-align: middle;\n",
       "    }\n",
       "\n",
       "    .dataframe tbody tr th {\n",
       "        vertical-align: top;\n",
       "    }\n",
       "\n",
       "    .dataframe thead th {\n",
       "        text-align: right;\n",
       "    }\n",
       "</style>\n",
       "<table border=\"1\" class=\"dataframe\">\n",
       "  <thead>\n",
       "    <tr style=\"text-align: right;\">\n",
       "      <th></th>\n",
       "      <th>Release Date</th>\n",
       "      <th>Season</th>\n",
       "      <th>Episode</th>\n",
       "      <th>Episode Title</th>\n",
       "      <th>Name</th>\n",
       "      <th>Sentence</th>\n",
       "    </tr>\n",
       "  </thead>\n",
       "  <tbody>\n",
       "    <tr>\n",
       "      <th>0</th>\n",
       "      <td>2011-04-17</td>\n",
       "      <td>1</td>\n",
       "      <td>1</td>\n",
       "      <td>Winter is Coming</td>\n",
       "      <td>waymar royce</td>\n",
       "      <td>What do you expect? They're savages. One lot s...</td>\n",
       "    </tr>\n",
       "    <tr>\n",
       "      <th>1</th>\n",
       "      <td>2011-04-17</td>\n",
       "      <td>1</td>\n",
       "      <td>1</td>\n",
       "      <td>Winter is Coming</td>\n",
       "      <td>will</td>\n",
       "      <td>I've never seen wildlings do a thing like this...</td>\n",
       "    </tr>\n",
       "    <tr>\n",
       "      <th>2</th>\n",
       "      <td>2011-04-17</td>\n",
       "      <td>1</td>\n",
       "      <td>1</td>\n",
       "      <td>Winter is Coming</td>\n",
       "      <td>waymar royce</td>\n",
       "      <td>How close did you get?</td>\n",
       "    </tr>\n",
       "    <tr>\n",
       "      <th>3</th>\n",
       "      <td>2011-04-17</td>\n",
       "      <td>1</td>\n",
       "      <td>1</td>\n",
       "      <td>Winter is Coming</td>\n",
       "      <td>will</td>\n",
       "      <td>Close as any man would.</td>\n",
       "    </tr>\n",
       "    <tr>\n",
       "      <th>4</th>\n",
       "      <td>2011-04-17</td>\n",
       "      <td>1</td>\n",
       "      <td>1</td>\n",
       "      <td>Winter is Coming</td>\n",
       "      <td>gared</td>\n",
       "      <td>We should head back to the wall.</td>\n",
       "    </tr>\n",
       "  </tbody>\n",
       "</table>\n",
       "</div>"
      ],
      "text/plain": [
       "  Release Date  Season  Episode     Episode Title          Name  \\\n",
       "0   2011-04-17       1        1  Winter is Coming  waymar royce   \n",
       "1   2011-04-17       1        1  Winter is Coming          will   \n",
       "2   2011-04-17       1        1  Winter is Coming  waymar royce   \n",
       "3   2011-04-17       1        1  Winter is Coming          will   \n",
       "4   2011-04-17       1        1  Winter is Coming         gared   \n",
       "\n",
       "                                            Sentence  \n",
       "0  What do you expect? They're savages. One lot s...  \n",
       "1  I've never seen wildlings do a thing like this...  \n",
       "2                             How close did you get?  \n",
       "3                            Close as any man would.  \n",
       "4                   We should head back to the wall.  "
      ]
     },
     "execution_count": 3,
     "metadata": {},
     "output_type": "execute_result"
    }
   ],
   "source": [
    "dtype = {'Episode Title' : 'category',\n",
    "         'Name': 'category',\n",
    "         'Sentence': 'string'}\n",
    "df = pd.read_csv(input_file_path, parse_dates=['Release Date'], dtype=dtype,\n",
    "                 converters={'Season': lambda x: int(re.sub('.*\\D', '', x)),\n",
    "                             'Episode': lambda x: int(re.sub('.*\\D', '', x))}\n",
    "                )\n",
    "df.head()"
   ]
  },
  {
   "cell_type": "code",
   "execution_count": 4,
   "id": "d4bdb7af",
   "metadata": {
    "execution": {
     "iopub.execute_input": "2022-11-24T15:23:47.674146Z",
     "iopub.status.busy": "2022-11-24T15:23:47.673534Z",
     "iopub.status.idle": "2022-11-24T15:23:47.687592Z",
     "shell.execute_reply": "2022-11-24T15:23:47.686268Z"
    },
    "papermill": {
     "duration": 0.02854,
     "end_time": "2022-11-24T15:23:47.691713",
     "exception": false,
     "start_time": "2022-11-24T15:23:47.663173",
     "status": "completed"
    },
    "tags": []
   },
   "outputs": [
    {
     "data": {
      "text/plain": [
       "Release Date     0\n",
       "Season           0\n",
       "Episode          0\n",
       "Episode Title    0\n",
       "Name             3\n",
       "Sentence         0\n",
       "dtype: int64"
      ]
     },
     "execution_count": 4,
     "metadata": {},
     "output_type": "execute_result"
    }
   ],
   "source": [
    "df.isna().sum()"
   ]
  },
  {
   "cell_type": "markdown",
   "id": "93ac6d1e",
   "metadata": {
    "papermill": {
     "duration": 0.008632,
     "end_time": "2022-11-24T15:23:47.709766",
     "exception": false,
     "start_time": "2022-11-24T15:23:47.701134",
     "status": "completed"
    },
    "tags": []
   },
   "source": [
    "Checking for null values in the data frame is always a good idea. And here, we find that the column Name has 3 null values. Let us look deeper into it."
   ]
  },
  {
   "cell_type": "code",
   "execution_count": 5,
   "id": "4da5f943",
   "metadata": {
    "execution": {
     "iopub.execute_input": "2022-11-24T15:23:47.729208Z",
     "iopub.status.busy": "2022-11-24T15:23:47.728374Z",
     "iopub.status.idle": "2022-11-24T15:23:47.743586Z",
     "shell.execute_reply": "2022-11-24T15:23:47.742515Z"
    },
    "papermill": {
     "duration": 0.027642,
     "end_time": "2022-11-24T15:23:47.746061",
     "exception": false,
     "start_time": "2022-11-24T15:23:47.718419",
     "status": "completed"
    },
    "tags": []
   },
   "outputs": [
    {
     "data": {
      "text/html": [
       "<div>\n",
       "<style scoped>\n",
       "    .dataframe tbody tr th:only-of-type {\n",
       "        vertical-align: middle;\n",
       "    }\n",
       "\n",
       "    .dataframe tbody tr th {\n",
       "        vertical-align: top;\n",
       "    }\n",
       "\n",
       "    .dataframe thead th {\n",
       "        text-align: right;\n",
       "    }\n",
       "</style>\n",
       "<table border=\"1\" class=\"dataframe\">\n",
       "  <thead>\n",
       "    <tr style=\"text-align: right;\">\n",
       "      <th></th>\n",
       "      <th>Release Date</th>\n",
       "      <th>Season</th>\n",
       "      <th>Episode</th>\n",
       "      <th>Episode Title</th>\n",
       "      <th>Name</th>\n",
       "      <th>Sentence</th>\n",
       "    </tr>\n",
       "  </thead>\n",
       "  <tbody>\n",
       "    <tr>\n",
       "      <th>17387</th>\n",
       "      <td>2016-05-01</td>\n",
       "      <td>6</td>\n",
       "      <td>2</td>\n",
       "      <td>Home</td>\n",
       "      <td>NaN</td>\n",
       "      <td>You leave the fighting to the little lords, Wy...</td>\n",
       "    </tr>\n",
       "    <tr>\n",
       "      <th>17389</th>\n",
       "      <td>2016-05-01</td>\n",
       "      <td>6</td>\n",
       "      <td>2</td>\n",
       "      <td>Home</td>\n",
       "      <td>NaN</td>\n",
       "      <td>Well, he's never going to learn to fight becau...</td>\n",
       "    </tr>\n",
       "    <tr>\n",
       "      <th>18619</th>\n",
       "      <td>2016-05-22</td>\n",
       "      <td>6</td>\n",
       "      <td>5</td>\n",
       "      <td>The Door</td>\n",
       "      <td>NaN</td>\n",
       "      <td>Wylis! What's the matter?</td>\n",
       "    </tr>\n",
       "  </tbody>\n",
       "</table>\n",
       "</div>"
      ],
      "text/plain": [
       "      Release Date  Season  Episode Episode Title Name  \\\n",
       "17387   2016-05-01       6        2          Home  NaN   \n",
       "17389   2016-05-01       6        2          Home  NaN   \n",
       "18619   2016-05-22       6        5      The Door  NaN   \n",
       "\n",
       "                                                Sentence  \n",
       "17387  You leave the fighting to the little lords, Wy...  \n",
       "17389  Well, he's never going to learn to fight becau...  \n",
       "18619                          Wylis! What's the matter?  "
      ]
     },
     "execution_count": 5,
     "metadata": {},
     "output_type": "execute_result"
    }
   ],
   "source": [
    "df[df['Name'].isna()]"
   ]
  },
  {
   "cell_type": "markdown",
   "id": "cc507ad3",
   "metadata": {
    "papermill": {
     "duration": 0.00884,
     "end_time": "2022-11-24T15:23:47.764359",
     "exception": false,
     "start_time": "2022-11-24T15:23:47.755519",
     "status": "completed"
    },
    "tags": []
   },
   "source": [
    "A quick search leads us to [Old Nan](https://gameofthrones.fandom.com/wiki/Old_Nan).\n",
    "\n",
    "> Old Nan is an elderly woman living in Winterfell. She is a retired servant of House Stark known for her tale-telling abilities. She has entertained the children of Eddard and Catelyn with stories throughout their childhoods.\n",
    "\n",
    "Old Nan is falsely parsed as null by pandas. Now we can't have that, can we? Let us fix it."
   ]
  },
  {
   "cell_type": "code",
   "execution_count": 6,
   "id": "0a3f2c55",
   "metadata": {
    "execution": {
     "iopub.execute_input": "2022-11-24T15:23:47.783899Z",
     "iopub.status.busy": "2022-11-24T15:23:47.783504Z",
     "iopub.status.idle": "2022-11-24T15:23:47.792001Z",
     "shell.execute_reply": "2022-11-24T15:23:47.791177Z"
    },
    "papermill": {
     "duration": 0.020775,
     "end_time": "2022-11-24T15:23:47.793985",
     "exception": false,
     "start_time": "2022-11-24T15:23:47.773210",
     "status": "completed"
    },
    "tags": []
   },
   "outputs": [],
   "source": [
    "df.loc[:, 'Name'] = df.Name.cat.add_categories(\"Nan\")\n",
    "df.loc[:, 'Name'].fillna(\"Nan\", inplace=True)"
   ]
  },
  {
   "cell_type": "markdown",
   "id": "522366b6",
   "metadata": {
    "papermill": {
     "duration": 0.008629,
     "end_time": "2022-11-24T15:23:47.811487",
     "exception": false,
     "start_time": "2022-11-24T15:23:47.802858",
     "status": "completed"
    },
    "tags": []
   },
   "source": [
    "We end up with the data frame with following data types."
   ]
  },
  {
   "cell_type": "code",
   "execution_count": 7,
   "id": "917caf10",
   "metadata": {
    "execution": {
     "iopub.execute_input": "2022-11-24T15:23:47.832751Z",
     "iopub.status.busy": "2022-11-24T15:23:47.832015Z",
     "iopub.status.idle": "2022-11-24T15:23:47.838969Z",
     "shell.execute_reply": "2022-11-24T15:23:47.838216Z"
    },
    "papermill": {
     "duration": 0.020609,
     "end_time": "2022-11-24T15:23:47.840992",
     "exception": false,
     "start_time": "2022-11-24T15:23:47.820383",
     "status": "completed"
    },
    "tags": []
   },
   "outputs": [
    {
     "data": {
      "text/plain": [
       "Release Date     datetime64[ns]\n",
       "Season                    int64\n",
       "Episode                   int64\n",
       "Episode Title          category\n",
       "Name                   category\n",
       "Sentence                 string\n",
       "dtype: object"
      ]
     },
     "execution_count": 7,
     "metadata": {},
     "output_type": "execute_result"
    }
   ],
   "source": [
    "df.dtypes"
   ]
  },
  {
   "cell_type": "markdown",
   "id": "a69d8dff",
   "metadata": {
    "papermill": {
     "duration": 0.008664,
     "end_time": "2022-11-24T15:23:47.859136",
     "exception": false,
     "start_time": "2022-11-24T15:23:47.850472",
     "status": "completed"
    },
    "tags": []
   },
   "source": [
    "## Doing the Analysis"
   ]
  },
  {
   "cell_type": "markdown",
   "id": "970d2424",
   "metadata": {
    "papermill": {
     "duration": 0.009068,
     "end_time": "2022-11-24T15:23:47.877084",
     "exception": false,
     "start_time": "2022-11-24T15:23:47.868016",
     "status": "completed"
    },
    "tags": []
   },
   "source": [
    "### Who spoke the most?"
   ]
  },
  {
   "cell_type": "markdown",
   "id": "21db10b4",
   "metadata": {
    "papermill": {
     "duration": 0.008696,
     "end_time": "2022-11-24T15:23:47.894719",
     "exception": false,
     "start_time": "2022-11-24T15:23:47.886023",
     "status": "completed"
    },
    "tags": []
   },
   "source": [
    "We can quickly find the top 10 characters according to the number of lines they had in the complete series."
   ]
  },
  {
   "cell_type": "code",
   "execution_count": 8,
   "id": "67b417da",
   "metadata": {
    "execution": {
     "iopub.execute_input": "2022-11-24T15:23:47.915279Z",
     "iopub.status.busy": "2022-11-24T15:23:47.914548Z",
     "iopub.status.idle": "2022-11-24T15:23:47.928612Z",
     "shell.execute_reply": "2022-11-24T15:23:47.927604Z"
    },
    "papermill": {
     "duration": 0.026932,
     "end_time": "2022-11-24T15:23:47.930913",
     "exception": false,
     "start_time": "2022-11-24T15:23:47.903981",
     "status": "completed"
    },
    "tags": []
   },
   "outputs": [
    {
     "data": {
      "text/html": [
       "<div>\n",
       "<style scoped>\n",
       "    .dataframe tbody tr th:only-of-type {\n",
       "        vertical-align: middle;\n",
       "    }\n",
       "\n",
       "    .dataframe tbody tr th {\n",
       "        vertical-align: top;\n",
       "    }\n",
       "\n",
       "    .dataframe thead th {\n",
       "        text-align: right;\n",
       "    }\n",
       "</style>\n",
       "<table border=\"1\" class=\"dataframe\">\n",
       "  <thead>\n",
       "    <tr style=\"text-align: right;\">\n",
       "      <th></th>\n",
       "      <th>Name</th>\n",
       "      <th>0</th>\n",
       "    </tr>\n",
       "  </thead>\n",
       "  <tbody>\n",
       "    <tr>\n",
       "      <th>0</th>\n",
       "      <td>tyrion lannister</td>\n",
       "      <td>1760</td>\n",
       "    </tr>\n",
       "    <tr>\n",
       "      <th>1</th>\n",
       "      <td>jon snow</td>\n",
       "      <td>1133</td>\n",
       "    </tr>\n",
       "    <tr>\n",
       "      <th>2</th>\n",
       "      <td>daenerys targaryen</td>\n",
       "      <td>1048</td>\n",
       "    </tr>\n",
       "    <tr>\n",
       "      <th>3</th>\n",
       "      <td>cersei lannister</td>\n",
       "      <td>1005</td>\n",
       "    </tr>\n",
       "    <tr>\n",
       "      <th>4</th>\n",
       "      <td>jaime lannister</td>\n",
       "      <td>945</td>\n",
       "    </tr>\n",
       "    <tr>\n",
       "      <th>5</th>\n",
       "      <td>sansa stark</td>\n",
       "      <td>784</td>\n",
       "    </tr>\n",
       "    <tr>\n",
       "      <th>6</th>\n",
       "      <td>arya stark</td>\n",
       "      <td>783</td>\n",
       "    </tr>\n",
       "    <tr>\n",
       "      <th>7</th>\n",
       "      <td>davos</td>\n",
       "      <td>528</td>\n",
       "    </tr>\n",
       "    <tr>\n",
       "      <th>8</th>\n",
       "      <td>theon greyjoy</td>\n",
       "      <td>455</td>\n",
       "    </tr>\n",
       "    <tr>\n",
       "      <th>9</th>\n",
       "      <td>petyr baelish</td>\n",
       "      <td>449</td>\n",
       "    </tr>\n",
       "  </tbody>\n",
       "</table>\n",
       "</div>"
      ],
      "text/plain": [
       "                 Name     0\n",
       "0    tyrion lannister  1760\n",
       "1            jon snow  1133\n",
       "2  daenerys targaryen  1048\n",
       "3    cersei lannister  1005\n",
       "4     jaime lannister   945\n",
       "5         sansa stark   784\n",
       "6          arya stark   783\n",
       "7               davos   528\n",
       "8       theon greyjoy   455\n",
       "9       petyr baelish   449"
      ]
     },
     "execution_count": 8,
     "metadata": {},
     "output_type": "execute_result"
    }
   ],
   "source": [
    "top_10 = df[['Name']].value_counts().head(10).reset_index()\n",
    "top_10"
   ]
  },
  {
   "cell_type": "markdown",
   "id": "6447de76",
   "metadata": {
    "papermill": {
     "duration": 0.008903,
     "end_time": "2022-11-24T15:23:47.949734",
     "exception": false,
     "start_time": "2022-11-24T15:23:47.940831",
     "status": "completed"
    },
    "tags": []
   },
   "source": [
    "[Tyrion Lannister](https://gameofthrones.fandom.com/wiki/Tyrion_Lannister) rocks the top, followed by [Jon Snow](https://gameofthrones.fandom.com/wiki/Jon_Snow). Let us make a quick plot for our satisfaction."
   ]
  },
  {
   "cell_type": "code",
   "execution_count": 9,
   "id": "e09767b8",
   "metadata": {
    "execution": {
     "iopub.execute_input": "2022-11-24T15:23:47.970274Z",
     "iopub.status.busy": "2022-11-24T15:23:47.969779Z",
     "iopub.status.idle": "2022-11-24T15:23:48.297706Z",
     "shell.execute_reply": "2022-11-24T15:23:48.296512Z"
    },
    "papermill": {
     "duration": 0.341409,
     "end_time": "2022-11-24T15:23:48.300152",
     "exception": false,
     "start_time": "2022-11-24T15:23:47.958743",
     "status": "completed"
    },
    "tags": []
   },
   "outputs": [
    {
     "data": {
      "text/plain": [
       "<AxesSubplot:title={'center':'Top 10 Characters with lines'}, ylabel='Character'>"
      ]
     },
     "execution_count": 9,
     "metadata": {},
     "output_type": "execute_result"
    },
    {
     "data": {
      "image/png": "[encoded data removed]",
      "text/plain": [
       "<Figure size 432x288 with 1 Axes>"
      ]
     },
     "metadata": {
      "needs_background": "light"
     },
     "output_type": "display_data"
    }
   ],
   "source": [
    "top_10.plot(x='Name',kind='barh', title='Top 10 Characters with lines',\n",
    "            xlabel='Character', ylabel='No. of Lines'\n",
    "           )"
   ]
  },
  {
   "cell_type": "markdown",
   "id": "7afb5d90",
   "metadata": {
    "papermill": {
     "duration": 0.009343,
     "end_time": "2022-11-24T15:23:48.319233",
     "exception": false,
     "start_time": "2022-11-24T15:23:48.309890",
     "status": "completed"
    },
    "tags": []
   },
   "source": [
    "We have our guy. Now comes the question,"
   ]
  },
  {
   "cell_type": "markdown",
   "id": "5e5226a8",
   "metadata": {
    "papermill": {
     "duration": 0.009792,
     "end_time": "2022-11-24T15:23:48.339193",
     "exception": false,
     "start_time": "2022-11-24T15:23:48.329401",
     "status": "completed"
    },
    "tags": []
   },
   "source": [
    "### What words did he speak the most?"
   ]
  },
  {
   "cell_type": "markdown",
   "id": "3dd2245c",
   "metadata": {
    "papermill": {
     "duration": 0.009488,
     "end_time": "2022-11-24T15:23:48.358516",
     "exception": false,
     "start_time": "2022-11-24T15:23:48.349028",
     "status": "completed"
    },
    "tags": []
   },
   "source": [
    "We will extract Tyrion's lines to a different data frame."
   ]
  },
  {
   "cell_type": "code",
   "execution_count": 10,
   "id": "b8d71379",
   "metadata": {
    "execution": {
     "iopub.execute_input": "2022-11-24T15:23:48.379716Z",
     "iopub.status.busy": "2022-11-24T15:23:48.379043Z",
     "iopub.status.idle": "2022-11-24T15:23:48.385346Z",
     "shell.execute_reply": "2022-11-24T15:23:48.384387Z"
    },
    "papermill": {
     "duration": 0.019788,
     "end_time": "2022-11-24T15:23:48.387859",
     "exception": false,
     "start_time": "2022-11-24T15:23:48.368071",
     "status": "completed"
    },
    "tags": []
   },
   "outputs": [],
   "source": [
    "tyrion_lannister = df.loc[df.Name=='tyrion lannister','Sentence']"
   ]
  },
  {
   "cell_type": "markdown",
   "id": "67f523b1",
   "metadata": {
    "papermill": {
     "duration": 0.009254,
     "end_time": "2022-11-24T15:23:48.406899",
     "exception": false,
     "start_time": "2022-11-24T15:23:48.397645",
     "status": "completed"
    },
    "tags": []
   },
   "source": [
    "We will do some quick string manipulations to split the lines into words."
   ]
  },
  {
   "cell_type": "code",
   "execution_count": 11,
   "id": "5d9069c8",
   "metadata": {
    "execution": {
     "iopub.execute_input": "2022-11-24T15:23:48.428198Z",
     "iopub.status.busy": "2022-11-24T15:23:48.427473Z",
     "iopub.status.idle": "2022-11-24T15:23:48.445471Z",
     "shell.execute_reply": "2022-11-24T15:23:48.444670Z"
    },
    "papermill": {
     "duration": 0.031204,
     "end_time": "2022-11-24T15:23:48.447624",
     "exception": false,
     "start_time": "2022-11-24T15:23:48.416420",
     "status": "completed"
    },
    "tags": []
   },
   "outputs": [
    {
     "data": {
      "text/plain": [
       "145    [mmh, it, is, true, what, they, say, about, th...\n",
       "147               [i, did, hear, something, about, that]\n",
       "149                           [and, the, other, brother]\n",
       "151    [there's, the, pretty, one, and, there's, the,...\n",
       "153                 [i, hear, he, hates, that, nickname]\n",
       "Name: Sentence, dtype: object"
      ]
     },
     "execution_count": 11,
     "metadata": {},
     "output_type": "execute_result"
    }
   ],
   "source": [
    "tyrion_lannister = tyrion_lannister. \\\n",
    "        str.replace('[,.?!-]','', regex=True). \\\n",
    "        str.lower(). \\\n",
    "        str.split()\n",
    "tyrion_lannister.head()"
   ]
  },
  {
   "cell_type": "markdown",
   "id": "d52af748",
   "metadata": {
    "papermill": {
     "duration": 0.00942,
     "end_time": "2022-11-24T15:23:48.466812",
     "exception": false,
     "start_time": "2022-11-24T15:23:48.457392",
     "status": "completed"
    },
    "tags": []
   },
   "source": [
    "We have a list under `Sentence` after splitting. A list is not so lovely inside a data frame. So let us explode it into long-form data."
   ]
  },
  {
   "cell_type": "code",
   "execution_count": 12,
   "id": "5c16dea0",
   "metadata": {
    "execution": {
     "iopub.execute_input": "2022-11-24T15:23:48.488673Z",
     "iopub.status.busy": "2022-11-24T15:23:48.487916Z",
     "iopub.status.idle": "2022-11-24T15:23:48.493663Z",
     "shell.execute_reply": "2022-11-24T15:23:48.492810Z"
    },
    "papermill": {
     "duration": 0.019808,
     "end_time": "2022-11-24T15:23:48.496193",
     "exception": false,
     "start_time": "2022-11-24T15:23:48.476385",
     "status": "completed"
    },
    "tags": []
   },
   "outputs": [],
   "source": [
    "tyrion_lannister = tyrion_lannister.explode('Sentence')"
   ]
  },
  {
   "cell_type": "code",
   "execution_count": 13,
   "id": "dda3c9a1",
   "metadata": {
    "execution": {
     "iopub.execute_input": "2022-11-24T15:23:48.518231Z",
     "iopub.status.busy": "2022-11-24T15:23:48.517490Z",
     "iopub.status.idle": "2022-11-24T15:23:48.529490Z",
     "shell.execute_reply": "2022-11-24T15:23:48.528230Z"
    },
    "papermill": {
     "duration": 0.025823,
     "end_time": "2022-11-24T15:23:48.531769",
     "exception": false,
     "start_time": "2022-11-24T15:23:48.505946",
     "status": "completed"
    },
    "tags": []
   },
   "outputs": [
    {
     "data": {
      "text/plain": [
       "the    1094\n",
       "you     864\n",
       "i       772\n",
       "to      771\n",
       "a       605\n",
       "of      513\n",
       "and     435\n",
       "my      307\n",
       "it      290\n",
       "me      276\n",
       "Name: Sentence, dtype: int64"
      ]
     },
     "execution_count": 13,
     "metadata": {},
     "output_type": "execute_result"
    }
   ],
   "source": [
    "tyrion_lannister.value_counts().head(10)"
   ]
  },
  {
   "cell_type": "markdown",
   "id": "0b384da8",
   "metadata": {
    "papermill": {
     "duration": 0.009501,
     "end_time": "2022-11-24T15:23:48.551108",
     "exception": false,
     "start_time": "2022-11-24T15:23:48.541607",
     "status": "completed"
    },
    "tags": []
   },
   "source": [
    "Oh my, the top spoken words are all [stop words](https://www.opinosis-analytics.com/knowledge-base/stop-words-explained/). To give a quick rundown, stop words make sense in a sentence but are nonsensical without context. Since we are looking at individual words, it is safe to remove them.\n",
    "\n",
    "I have tried four libraries-`wordcloud`, `Scikit-Learn`, `Natural Language Toolkit (NLTK)`, and `spaCy`. I liked the output from `wordcloud` the best. So let's have a look."
   ]
  },
  {
   "cell_type": "code",
   "execution_count": 14,
   "id": "fa65a6f6",
   "metadata": {
    "execution": {
     "iopub.execute_input": "2022-11-24T15:23:48.572885Z",
     "iopub.status.busy": "2022-11-24T15:23:48.572201Z",
     "iopub.status.idle": "2022-11-24T15:23:48.613871Z",
     "shell.execute_reply": "2022-11-24T15:23:48.612517Z"
    },
    "papermill": {
     "duration": 0.055636,
     "end_time": "2022-11-24T15:23:48.616546",
     "exception": false,
     "start_time": "2022-11-24T15:23:48.560910",
     "status": "completed"
    },
    "tags": []
   },
   "outputs": [
    {
     "data": {
      "text/plain": [
       "will      139\n",
       "know      109\n",
       "one       100\n",
       "father     83\n",
       "well       73\n",
       "want       72\n",
       "good       66\n",
       "yes        58\n",
       "time       56\n",
       "man        56\n",
       "Name: Sentence, dtype: int64"
      ]
     },
     "execution_count": 14,
     "metadata": {},
     "output_type": "execute_result"
    }
   ],
   "source": [
    "from wordcloud import STOPWORDS\n",
    "tyrion_lannister[~tyrion_lannister.isin(STOPWORDS)].value_counts().head(10)"
   ]
  },
  {
   "cell_type": "markdown",
   "id": "186d1d17",
   "metadata": {
    "papermill": {
     "duration": 0.009709,
     "end_time": "2022-11-24T15:23:48.635999",
     "exception": false,
     "start_time": "2022-11-24T15:23:48.626290",
     "status": "completed"
    },
    "tags": []
   },
   "source": [
    "Now that is a lot better. We already have the words of Tyrion. Nevertheless, let us now get right into making a word cloud for our visualization. First, we will have to create a word cloud object."
   ]
  },
  {
   "cell_type": "code",
   "execution_count": 15,
   "id": "60440c40",
   "metadata": {
    "execution": {
     "iopub.execute_input": "2022-11-24T15:23:48.658080Z",
     "iopub.status.busy": "2022-11-24T15:23:48.657277Z",
     "iopub.status.idle": "2022-11-24T15:23:48.663032Z",
     "shell.execute_reply": "2022-11-24T15:23:48.661844Z"
    },
    "papermill": {
     "duration": 0.019639,
     "end_time": "2022-11-24T15:23:48.665510",
     "exception": false,
     "start_time": "2022-11-24T15:23:48.645871",
     "status": "completed"
    },
    "tags": []
   },
   "outputs": [],
   "source": [
    "from wordcloud import WordCloud\n",
    "tyrion_wc = WordCloud(\n",
    "    background_color='white',\n",
    "    max_words=2000,\n",
    "    stopwords=STOPWORDS\n",
    ")"
   ]
  },
  {
   "cell_type": "markdown",
   "id": "67dc4191",
   "metadata": {
    "papermill": {
     "duration": 0.009804,
     "end_time": "2022-11-24T15:23:48.685682",
     "exception": false,
     "start_time": "2022-11-24T15:23:48.675878",
     "status": "completed"
    },
    "tags": []
   },
   "source": [
    "Next comes the job of adding our words into the word cloud instance."
   ]
  },
  {
   "cell_type": "code",
   "execution_count": 16,
   "id": "7b28bd66",
   "metadata": {
    "execution": {
     "iopub.execute_input": "2022-11-24T15:23:48.707851Z",
     "iopub.status.busy": "2022-11-24T15:23:48.707410Z",
     "iopub.status.idle": "2022-11-24T15:23:49.052811Z",
     "shell.execute_reply": "2022-11-24T15:23:49.051661Z"
    },
    "papermill": {
     "duration": 0.359379,
     "end_time": "2022-11-24T15:23:49.055238",
     "exception": false,
     "start_time": "2022-11-24T15:23:48.695859",
     "status": "completed"
    },
    "tags": []
   },
   "outputs": [
    {
     "data": {
      "text/plain": [
       "<wordcloud.wordcloud.WordCloud at 0x7fc329181890>"
      ]
     },
     "execution_count": 16,
     "metadata": {},
     "output_type": "execute_result"
    }
   ],
   "source": [
    "tyrion_wc.generate(' '.join(tyrion_lannister.values))"
   ]
  },
  {
   "cell_type": "markdown",
   "id": "673e931d",
   "metadata": {
    "papermill": {
     "duration": 0.009775,
     "end_time": "2022-11-24T15:23:49.075211",
     "exception": false,
     "start_time": "2022-11-24T15:23:49.065436",
     "status": "completed"
    },
    "tags": []
   },
   "source": [
    "We are left with the visualization, and we're done."
   ]
  },
  {
   "cell_type": "code",
   "execution_count": 17,
   "id": "356a6cff",
   "metadata": {
    "execution": {
     "iopub.execute_input": "2022-11-24T15:23:49.097379Z",
     "iopub.status.busy": "2022-11-24T15:23:49.096327Z",
     "iopub.status.idle": "2022-11-24T15:23:49.338760Z",
     "shell.execute_reply": "2022-11-24T15:23:49.337703Z"
    },
    "papermill": {
     "duration": 0.256329,
     "end_time": "2022-11-24T15:23:49.341377",
     "exception": false,
     "start_time": "2022-11-24T15:23:49.085048",
     "status": "completed"
    },
    "tags": []
   },
   "outputs": [
    {
     "data": {
      "image/png": "[encoded data removed]",
      "text/plain": [
       "<Figure size 432x288 with 1 Axes>"
      ]
     },
     "metadata": {
      "needs_background": "light"
     },
     "output_type": "display_data"
    }
   ],
   "source": [
    "plt.imshow(tyrion_wc, interpolation='bilinear')\n",
    "plt.axis('off')\n",
    "plt.show()"
   ]
  },
  {
   "cell_type": "markdown",
   "id": "d8c44f0b",
   "metadata": {
    "papermill": {
     "duration": 0.011314,
     "end_time": "2022-11-24T15:23:49.364424",
     "exception": false,
     "start_time": "2022-11-24T15:23:49.353110",
     "status": "completed"
    },
    "tags": []
   },
   "source": [
    "Well, on first look, I have been tempted to make claims on the strength of Tyrion's relationships with his family and others in the realm. Alas, but there ought to be better numerical ways to make such interpretations. Jumping to conclusions is never a good idea when we're yet to dig out the good info from the data to back the claim. We will see if I can figure that part."
   ]
  }
 ],
 "metadata": {
  "kernelspec": {
   "display_name": "Python 3",
   "language": "python",
   "name": "python3"
  },
  "language_info": {
   "codemirror_mode": {
    "name": "ipython",
    "version": 3
   },
   "file_extension": ".py",
   "mimetype": "text/x-python",
   "name": "python",
   "nbconvert_exporter": "python",
   "pygments_lexer": "ipython3",
   "version": "3.7.12"
  },
  "papermill": {
   "default_parameters": {},
   "duration": 11.336149,
   "end_time": "2022-11-24T15:23:50.098378",
   "environment_variables": {},
   "exception": null,
   "input_path": "__notebook__.ipynb",
   "output_path": "__notebook__.ipynb",
   "parameters": {},
   "start_time": "2022-11-24T15:23:38.762229",
   "version": "2.3.4"
  }
 },
 "nbformat": 4,
 "nbformat_minor": 5
}
