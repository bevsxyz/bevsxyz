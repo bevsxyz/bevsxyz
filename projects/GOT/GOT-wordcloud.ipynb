{
 "cells": [
  {
   "cell_type": "markdown",
   "id": "9ac91143",
   "metadata": {
    "papermill": {
     "duration": 0.009176,
     "end_time": "2022-11-24T13:52:04.007058",
     "exception": false,
     "start_time": "2022-11-24T13:52:03.997882",
     "status": "completed"
    },
    "tags": []
   },
   "source": [
    "# Game of Thrones: Who spoke the most, and what?"
   ]
  },
  {
   "cell_type": "markdown",
   "id": "eeb4c6e7",
   "metadata": {
    "papermill": {
     "duration": 0.009217,
     "end_time": "2022-11-24T13:52:04.028428",
     "exception": false,
     "start_time": "2022-11-24T13:52:04.019211",
     "status": "completed"
    },
    "tags": []
   },
   "source": [
    "I came across the Game of Thrones script for the first time in the final project of a Python course by Internshala. The idea for the project was to simply find unique words spoken by the characters. I, for one, wanted to explore some visualizations, and here is my attempt at one. We will find the character with the maximum number of lines in the script and create a word cloud. Fairly simple stuff.\n",
    "\n",
    "> Who is the character with the maximum number of lines in the script, and what were the words they spoke the most?"
   ]
  },
  {
   "cell_type": "markdown",
   "id": "55748e83",
   "metadata": {
    "papermill": {
     "duration": 0.007565,
     "end_time": "2022-11-24T13:52:04.043950",
     "exception": false,
     "start_time": "2022-11-24T13:52:04.036385",
     "status": "completed"
    },
    "tags": []
   },
   "source": [
    "## The Dataset\n",
    "\n",
    "I found a GOT dataset in the public domain graciously delivered by Alben Tumanggor in Kaggle. We will be working with this dataset for our explorations. Here is the [link](https://www.kaggle.com/datasets/albenft/game-of-thrones-script-all-seasons) if you wanna explore it on your own.\n",
    "\n",
    "\n",
    "Going over the headers for each column and what they correspond to will give us a good start. You can find a summary in the table."
   ]
  },
  {
   "cell_type": "markdown",
   "id": "793a2782",
   "metadata": {
    "papermill": {
     "duration": 0.007603,
     "end_time": "2022-11-24T13:52:04.059399",
     "exception": false,
     "start_time": "2022-11-24T13:52:04.051796",
     "status": "completed"
    },
    "tags": []
   },
   "source": [
    "| Header        | Description                                                | Example                                                                                                                                       |   |   |\n",
    "|---------------|------------------------------------------------------------|-------------------------------------------------------------------------------------------------------------------------------------------|---|---|\n",
    "| Release Date  | The original air date of the episode in YYYY-MM-DD format. | 2011-04-17                                                                                                                                |   |   |\n",
    "| Season        | The season number.                                         | Season 1                                                                                                                                  |   |   |\n",
    "| Episode       | The episode number.                                        | Episode 1                                                                                                                                 |   |   |\n",
    "| Episode Title | The title of the episode.                                  | Winter is Coming                                                                                                                          |   |   |\n",
    "| Name          | Name of the GOT character.                                 | waymar royce                                                                                                                              |   |   |\n",
    "| Sentence      | Sentence spoken by the character.                          | What do you expect? They're savages. One lot steals a goat from another lot and before you know it, they're ripping each other to pieces. |   |   |"
   ]
  },
  {
   "cell_type": "markdown",
   "id": "7e1e2a20",
   "metadata": {
    "papermill": {
     "duration": 0.007528,
     "end_time": "2022-11-24T13:52:04.074646",
     "exception": false,
     "start_time": "2022-11-24T13:52:04.067118",
     "status": "completed"
    },
    "tags": []
   },
   "source": [
    "Let us import the packages that we will use for the analysis."
   ]
  },
  {
   "cell_type": "code",
   "execution_count": 1,
   "id": "58f85d92",
   "metadata": {
    "execution": {
     "iopub.execute_input": "2022-11-24T13:52:04.094043Z",
     "iopub.status.busy": "2022-11-24T13:52:04.093454Z",
     "iopub.status.idle": "2022-11-24T13:52:04.109835Z",
     "shell.execute_reply": "2022-11-24T13:52:04.107969Z"
    },
    "papermill": {
     "duration": 0.031644,
     "end_time": "2022-11-24T13:52:04.114004",
     "exception": false,
     "start_time": "2022-11-24T13:52:04.082360",
     "status": "completed"
    },
    "tags": []
   },
   "outputs": [],
   "source": [
    "\n",
    "%matplotlib inline\n",
    "\n",
    "import pandas as pd\n",
    "import numpy as np\n",
    "import matplotlib.pyplot as plt\n",
    "import re"
   ]
  },
  {
   "cell_type": "markdown",
   "id": "392ded6c",
   "metadata": {
    "papermill": {
     "duration": 0.008205,
     "end_time": "2022-11-24T13:52:04.133144",
     "exception": false,
     "start_time": "2022-11-24T13:52:04.124939",
     "status": "completed"
    },
    "tags": []
   },
   "source": [
    "Before we read the whole dataset, I feel more comfortable having a glimpse first. So we will read five rows from the dataset to get started."
   ]
  },
  {
   "cell_type": "code",
   "execution_count": 2,
   "id": "113fd799",
   "metadata": {
    "execution": {
     "iopub.execute_input": "2022-11-24T13:52:04.152872Z",
     "iopub.status.busy": "2022-11-24T13:52:04.152490Z",
     "iopub.status.idle": "2022-11-24T13:52:04.221963Z",
     "shell.execute_reply": "2022-11-24T13:52:04.220849Z"
    },
    "papermill": {
     "duration": 0.082243,
     "end_time": "2022-11-24T13:52:04.225206",
     "exception": false,
     "start_time": "2022-11-24T13:52:04.142963",
     "status": "completed"
    },
    "tags": []
   },
   "outputs": [
    {
     "data": {
      "text/html": [
       "<div>\n",
       "<style scoped>\n",
       "    .dataframe tbody tr th:only-of-type {\n",
       "        vertical-align: middle;\n",
       "    }\n",
       "\n",
       "    .dataframe tbody tr th {\n",
       "        vertical-align: top;\n",
       "    }\n",
       "\n",
       "    .dataframe thead th {\n",
       "        text-align: right;\n",
       "    }\n",
       "</style>\n",
       "<table border=\"1\" class=\"dataframe\">\n",
       "  <thead>\n",
       "    <tr style=\"text-align: right;\">\n",
       "      <th></th>\n",
       "      <th>Release Date</th>\n",
       "      <th>Season</th>\n",
       "      <th>Episode</th>\n",
       "      <th>Episode Title</th>\n",
       "      <th>Name</th>\n",
       "      <th>Sentence</th>\n",
       "    </tr>\n",
       "  </thead>\n",
       "  <tbody>\n",
       "    <tr>\n",
       "      <th>0</th>\n",
       "      <td>2011-04-17</td>\n",
       "      <td>Season 1</td>\n",
       "      <td>Episode 1</td>\n",
       "      <td>Winter is Coming</td>\n",
       "      <td>waymar royce</td>\n",
       "      <td>What do you expect? They're savages. One lot s...</td>\n",
       "    </tr>\n",
       "    <tr>\n",
       "      <th>1</th>\n",
       "      <td>2011-04-17</td>\n",
       "      <td>Season 1</td>\n",
       "      <td>Episode 1</td>\n",
       "      <td>Winter is Coming</td>\n",
       "      <td>will</td>\n",
       "      <td>I've never seen wildlings do a thing like this...</td>\n",
       "    </tr>\n",
       "    <tr>\n",
       "      <th>2</th>\n",
       "      <td>2011-04-17</td>\n",
       "      <td>Season 1</td>\n",
       "      <td>Episode 1</td>\n",
       "      <td>Winter is Coming</td>\n",
       "      <td>waymar royce</td>\n",
       "      <td>How close did you get?</td>\n",
       "    </tr>\n",
       "    <tr>\n",
       "      <th>3</th>\n",
       "      <td>2011-04-17</td>\n",
       "      <td>Season 1</td>\n",
       "      <td>Episode 1</td>\n",
       "      <td>Winter is Coming</td>\n",
       "      <td>will</td>\n",
       "      <td>Close as any man would.</td>\n",
       "    </tr>\n",
       "    <tr>\n",
       "      <th>4</th>\n",
       "      <td>2011-04-17</td>\n",
       "      <td>Season 1</td>\n",
       "      <td>Episode 1</td>\n",
       "      <td>Winter is Coming</td>\n",
       "      <td>gared</td>\n",
       "      <td>We should head back to the wall.</td>\n",
       "    </tr>\n",
       "  </tbody>\n",
       "</table>\n",
       "</div>"
      ],
      "text/plain": [
       "  Release Date    Season    Episode     Episode Title          Name  \\\n",
       "0   2011-04-17  Season 1  Episode 1  Winter is Coming  waymar royce   \n",
       "1   2011-04-17  Season 1  Episode 1  Winter is Coming          will   \n",
       "2   2011-04-17  Season 1  Episode 1  Winter is Coming  waymar royce   \n",
       "3   2011-04-17  Season 1  Episode 1  Winter is Coming          will   \n",
       "4   2011-04-17  Season 1  Episode 1  Winter is Coming         gared   \n",
       "\n",
       "                                            Sentence  \n",
       "0  What do you expect? They're savages. One lot s...  \n",
       "1  I've never seen wildlings do a thing like this...  \n",
       "2                             How close did you get?  \n",
       "3                            Close as any man would.  \n",
       "4                   We should head back to the wall.  "
      ]
     },
     "execution_count": 2,
     "metadata": {},
     "output_type": "execute_result"
    }
   ],
   "source": [
    "input_file_path = '../input/game-of-thrones-script-all-seasons/Game_of_Thrones_Script.csv'\n",
    "df = pd.read_csv(input_file_path,nrows=5)\n",
    "df.head()"
   ]
  },
  {
   "cell_type": "markdown",
   "id": "9fc5aaa7",
   "metadata": {
    "papermill": {
     "duration": 0.008346,
     "end_time": "2022-11-24T13:52:04.242766",
     "exception": false,
     "start_time": "2022-11-24T13:52:04.234420",
     "status": "completed"
    },
    "tags": []
   },
   "source": [
    "We only require the columns `Name` and `Sentence` to address our problem statement. However, I am curious about finding efficient ways to read a dataset. Further, I do hope to extend the analysis with the other variables."
   ]
  },
  {
   "cell_type": "markdown",
   "id": "78629be7",
   "metadata": {
    "papermill": {
     "duration": 0.008522,
     "end_time": "2022-11-24T13:52:04.259552",
     "exception": false,
     "start_time": "2022-11-24T13:52:04.251030",
     "status": "completed"
    },
    "tags": []
   },
   "source": [
    "> Pandas use an enum-like structure for a [category](https://pandas.pydata.org/docs/user_guide/categorical.html), which allows saving on storage and computation. Well, it's more complicated than an enum, but the comparison helps my understanding. Similarly, the [string](https://pandas.pydata.org/docs/user_guide/text.html) datatype is a good choice when we wish to do string manipulations from within a data frame."
   ]
  },
  {
   "cell_type": "code",
   "execution_count": 3,
   "id": "50760f22",
   "metadata": {
    "execution": {
     "iopub.execute_input": "2022-11-24T13:52:04.278021Z",
     "iopub.status.busy": "2022-11-24T13:52:04.277605Z",
     "iopub.status.idle": "2022-11-24T13:52:04.501843Z",
     "shell.execute_reply": "2022-11-24T13:52:04.500981Z"
    },
    "papermill": {
     "duration": 0.236324,
     "end_time": "2022-11-24T13:52:04.504301",
     "exception": false,
     "start_time": "2022-11-24T13:52:04.267977",
     "status": "completed"
    },
    "tags": []
   },
   "outputs": [
    {
     "data": {
      "text/html": [
       "<div>\n",
       "<style scoped>\n",
       "    .dataframe tbody tr th:only-of-type {\n",
       "        vertical-align: middle;\n",
       "    }\n",
       "\n",
       "    .dataframe tbody tr th {\n",
       "        vertical-align: top;\n",
       "    }\n",
       "\n",
       "    .dataframe thead th {\n",
       "        text-align: right;\n",
       "    }\n",
       "</style>\n",
       "<table border=\"1\" class=\"dataframe\">\n",
       "  <thead>\n",
       "    <tr style=\"text-align: right;\">\n",
       "      <th></th>\n",
       "      <th>Release Date</th>\n",
       "      <th>Season</th>\n",
       "      <th>Episode</th>\n",
       "      <th>Episode Title</th>\n",
       "      <th>Name</th>\n",
       "      <th>Sentence</th>\n",
       "    </tr>\n",
       "  </thead>\n",
       "  <tbody>\n",
       "    <tr>\n",
       "      <th>0</th>\n",
       "      <td>2011-04-17</td>\n",
       "      <td>1</td>\n",
       "      <td>1</td>\n",
       "      <td>Winter is Coming</td>\n",
       "      <td>waymar royce</td>\n",
       "      <td>What do you expect? They're savages. One lot s...</td>\n",
       "    </tr>\n",
       "    <tr>\n",
       "      <th>1</th>\n",
       "      <td>2011-04-17</td>\n",
       "      <td>1</td>\n",
       "      <td>1</td>\n",
       "      <td>Winter is Coming</td>\n",
       "      <td>will</td>\n",
       "      <td>I've never seen wildlings do a thing like this...</td>\n",
       "    </tr>\n",
       "    <tr>\n",
       "      <th>2</th>\n",
       "      <td>2011-04-17</td>\n",
       "      <td>1</td>\n",
       "      <td>1</td>\n",
       "      <td>Winter is Coming</td>\n",
       "      <td>waymar royce</td>\n",
       "      <td>How close did you get?</td>\n",
       "    </tr>\n",
       "    <tr>\n",
       "      <th>3</th>\n",
       "      <td>2011-04-17</td>\n",
       "      <td>1</td>\n",
       "      <td>1</td>\n",
       "      <td>Winter is Coming</td>\n",
       "      <td>will</td>\n",
       "      <td>Close as any man would.</td>\n",
       "    </tr>\n",
       "    <tr>\n",
       "      <th>4</th>\n",
       "      <td>2011-04-17</td>\n",
       "      <td>1</td>\n",
       "      <td>1</td>\n",
       "      <td>Winter is Coming</td>\n",
       "      <td>gared</td>\n",
       "      <td>We should head back to the wall.</td>\n",
       "    </tr>\n",
       "  </tbody>\n",
       "</table>\n",
       "</div>"
      ],
      "text/plain": [
       "  Release Date  Season  Episode     Episode Title          Name  \\\n",
       "0   2011-04-17       1        1  Winter is Coming  waymar royce   \n",
       "1   2011-04-17       1        1  Winter is Coming          will   \n",
       "2   2011-04-17       1        1  Winter is Coming  waymar royce   \n",
       "3   2011-04-17       1        1  Winter is Coming          will   \n",
       "4   2011-04-17       1        1  Winter is Coming         gared   \n",
       "\n",
       "                                            Sentence  \n",
       "0  What do you expect? They're savages. One lot s...  \n",
       "1  I've never seen wildlings do a thing like this...  \n",
       "2                             How close did you get?  \n",
       "3                            Close as any man would.  \n",
       "4                   We should head back to the wall.  "
      ]
     },
     "execution_count": 3,
     "metadata": {},
     "output_type": "execute_result"
    }
   ],
   "source": [
    "dtype = {'Episode Title' : 'category',\n",
    "         'Name': 'category',\n",
    "         'Sentence': 'string'}\n",
    "df = pd.read_csv(input_file_path, parse_dates=['Release Date'], dtype=dtype,\n",
    "                 converters={'Season': lambda x: int(re.sub('.*\\D', '', x)),\n",
    "                             'Episode': lambda x: int(re.sub('.*\\D', '', x))}\n",
    "                )\n",
    "df.head()"
   ]
  },
  {
   "cell_type": "code",
   "execution_count": 4,
   "id": "6fd33169",
   "metadata": {
    "execution": {
     "iopub.execute_input": "2022-11-24T13:52:04.524338Z",
     "iopub.status.busy": "2022-11-24T13:52:04.523898Z",
     "iopub.status.idle": "2022-11-24T13:52:04.538358Z",
     "shell.execute_reply": "2022-11-24T13:52:04.537111Z"
    },
    "papermill": {
     "duration": 0.02744,
     "end_time": "2022-11-24T13:52:04.540846",
     "exception": false,
     "start_time": "2022-11-24T13:52:04.513406",
     "status": "completed"
    },
    "tags": []
   },
   "outputs": [
    {
     "data": {
      "text/plain": [
       "Release Date     0\n",
       "Season           0\n",
       "Episode          0\n",
       "Episode Title    0\n",
       "Name             3\n",
       "Sentence         0\n",
       "dtype: int64"
      ]
     },
     "execution_count": 4,
     "metadata": {},
     "output_type": "execute_result"
    }
   ],
   "source": [
    "df.isna().sum()"
   ]
  },
  {
   "cell_type": "markdown",
   "id": "972cf0be",
   "metadata": {
    "papermill": {
     "duration": 0.008953,
     "end_time": "2022-11-24T13:52:04.558527",
     "exception": false,
     "start_time": "2022-11-24T13:52:04.549574",
     "status": "completed"
    },
    "tags": []
   },
   "source": [
    "Checking for null values in the data frame is always a good idea. And here, we find that the column Name has 3 null values. Let us look deeper into it."
   ]
  },
  {
   "cell_type": "code",
   "execution_count": 5,
   "id": "747f800a",
   "metadata": {
    "execution": {
     "iopub.execute_input": "2022-11-24T13:52:04.577983Z",
     "iopub.status.busy": "2022-11-24T13:52:04.577145Z",
     "iopub.status.idle": "2022-11-24T13:52:04.592576Z",
     "shell.execute_reply": "2022-11-24T13:52:04.591303Z"
    },
    "papermill": {
     "duration": 0.027893,
     "end_time": "2022-11-24T13:52:04.595044",
     "exception": false,
     "start_time": "2022-11-24T13:52:04.567151",
     "status": "completed"
    },
    "tags": []
   },
   "outputs": [
    {
     "data": {
      "text/html": [
       "<div>\n",
       "<style scoped>\n",
       "    .dataframe tbody tr th:only-of-type {\n",
       "        vertical-align: middle;\n",
       "    }\n",
       "\n",
       "    .dataframe tbody tr th {\n",
       "        vertical-align: top;\n",
       "    }\n",
       "\n",
       "    .dataframe thead th {\n",
       "        text-align: right;\n",
       "    }\n",
       "</style>\n",
       "<table border=\"1\" class=\"dataframe\">\n",
       "  <thead>\n",
       "    <tr style=\"text-align: right;\">\n",
       "      <th></th>\n",
       "      <th>Release Date</th>\n",
       "      <th>Season</th>\n",
       "      <th>Episode</th>\n",
       "      <th>Episode Title</th>\n",
       "      <th>Name</th>\n",
       "      <th>Sentence</th>\n",
       "    </tr>\n",
       "  </thead>\n",
       "  <tbody>\n",
       "    <tr>\n",
       "      <th>17387</th>\n",
       "      <td>2016-05-01</td>\n",
       "      <td>6</td>\n",
       "      <td>2</td>\n",
       "      <td>Home</td>\n",
       "      <td>NaN</td>\n",
       "      <td>You leave the fighting to the little lords, Wy...</td>\n",
       "    </tr>\n",
       "    <tr>\n",
       "      <th>17389</th>\n",
       "      <td>2016-05-01</td>\n",
       "      <td>6</td>\n",
       "      <td>2</td>\n",
       "      <td>Home</td>\n",
       "      <td>NaN</td>\n",
       "      <td>Well, he's never going to learn to fight becau...</td>\n",
       "    </tr>\n",
       "    <tr>\n",
       "      <th>18619</th>\n",
       "      <td>2016-05-22</td>\n",
       "      <td>6</td>\n",
       "      <td>5</td>\n",
       "      <td>The Door</td>\n",
       "      <td>NaN</td>\n",
       "      <td>Wylis! What's the matter?</td>\n",
       "    </tr>\n",
       "  </tbody>\n",
       "</table>\n",
       "</div>"
      ],
      "text/plain": [
       "      Release Date  Season  Episode Episode Title Name  \\\n",
       "17387   2016-05-01       6        2          Home  NaN   \n",
       "17389   2016-05-01       6        2          Home  NaN   \n",
       "18619   2016-05-22       6        5      The Door  NaN   \n",
       "\n",
       "                                                Sentence  \n",
       "17387  You leave the fighting to the little lords, Wy...  \n",
       "17389  Well, he's never going to learn to fight becau...  \n",
       "18619                          Wylis! What's the matter?  "
      ]
     },
     "execution_count": 5,
     "metadata": {},
     "output_type": "execute_result"
    }
   ],
   "source": [
    "df[df['Name'].isna()]"
   ]
  },
  {
   "cell_type": "markdown",
   "id": "7bf316bd",
   "metadata": {
    "papermill": {
     "duration": 0.008319,
     "end_time": "2022-11-24T13:52:04.611923",
     "exception": false,
     "start_time": "2022-11-24T13:52:04.603604",
     "status": "completed"
    },
    "tags": []
   },
   "source": [
    "A quick search leads us to [Old Nan](https://gameofthrones.fandom.com/wiki/Old_Nan).\n",
    "\n",
    "> Old Nan is an elderly woman living in Winterfell. She is a retired servant of House Stark known for her tale-telling abilities. She has entertained the children of Eddard and Catelyn with stories throughout their childhoods.\n",
    "\n",
    "Old Nan is falsely parsed as null by pandas. Now we can't have that, can we? Let us fix it."
   ]
  },
  {
   "cell_type": "code",
   "execution_count": 6,
   "id": "0654a280",
   "metadata": {
    "execution": {
     "iopub.execute_input": "2022-11-24T13:52:04.631445Z",
     "iopub.status.busy": "2022-11-24T13:52:04.630647Z",
     "iopub.status.idle": "2022-11-24T13:52:04.639490Z",
     "shell.execute_reply": "2022-11-24T13:52:04.638295Z"
    },
    "papermill": {
     "duration": 0.021552,
     "end_time": "2022-11-24T13:52:04.642164",
     "exception": false,
     "start_time": "2022-11-24T13:52:04.620612",
     "status": "completed"
    },
    "tags": []
   },
   "outputs": [],
   "source": [
    "df.loc[:, 'Name'] = df.Name.cat.add_categories(\"Nan\")\n",
    "df.loc[:, 'Name'].fillna(\"Nan\", inplace=True)"
   ]
  },
  {
   "cell_type": "code",
   "execution_count": 7,
   "id": "75841158",
   "metadata": {
    "execution": {
     "iopub.execute_input": "2022-11-24T13:52:04.662556Z",
     "iopub.status.busy": "2022-11-24T13:52:04.662132Z",
     "iopub.status.idle": "2022-11-24T13:52:04.670291Z",
     "shell.execute_reply": "2022-11-24T13:52:04.668892Z"
    },
    "papermill": {
     "duration": 0.020906,
     "end_time": "2022-11-24T13:52:04.672649",
     "exception": false,
     "start_time": "2022-11-24T13:52:04.651743",
     "status": "completed"
    },
    "tags": []
   },
   "outputs": [
    {
     "data": {
      "text/plain": [
       "Release Date     datetime64[ns]\n",
       "Season                    int64\n",
       "Episode                   int64\n",
       "Episode Title          category\n",
       "Name                   category\n",
       "Sentence                 string\n",
       "dtype: object"
      ]
     },
     "execution_count": 7,
     "metadata": {},
     "output_type": "execute_result"
    }
   ],
   "source": [
    "df.dtypes"
   ]
  },
  {
   "cell_type": "markdown",
   "id": "8e632937",
   "metadata": {
    "papermill": {
     "duration": 0.008756,
     "end_time": "2022-11-24T13:52:04.690294",
     "exception": false,
     "start_time": "2022-11-24T13:52:04.681538",
     "status": "completed"
    },
    "tags": []
   },
   "source": [
    "## Doing the Analysis"
   ]
  },
  {
   "cell_type": "markdown",
   "id": "a3e2441c",
   "metadata": {
    "papermill": {
     "duration": 0.008573,
     "end_time": "2022-11-24T13:52:04.707557",
     "exception": false,
     "start_time": "2022-11-24T13:52:04.698984",
     "status": "completed"
    },
    "tags": []
   },
   "source": [
    "### Who spoke the most?"
   ]
  },
  {
   "cell_type": "markdown",
   "id": "f2f89ec4",
   "metadata": {
    "papermill": {
     "duration": 0.008997,
     "end_time": "2022-11-24T13:52:04.726619",
     "exception": false,
     "start_time": "2022-11-24T13:52:04.717622",
     "status": "completed"
    },
    "tags": []
   },
   "source": [
    "We can quickly find the top 10 characters according to the number of lines they had in the complete series."
   ]
  },
  {
   "cell_type": "code",
   "execution_count": 8,
   "id": "608f6bfe",
   "metadata": {
    "execution": {
     "iopub.execute_input": "2022-11-24T13:52:04.746771Z",
     "iopub.status.busy": "2022-11-24T13:52:04.746353Z",
     "iopub.status.idle": "2022-11-24T13:52:04.762163Z",
     "shell.execute_reply": "2022-11-24T13:52:04.760823Z"
    },
    "papermill": {
     "duration": 0.029165,
     "end_time": "2022-11-24T13:52:04.764836",
     "exception": false,
     "start_time": "2022-11-24T13:52:04.735671",
     "status": "completed"
    },
    "tags": []
   },
   "outputs": [
    {
     "data": {
      "text/html": [
       "<div>\n",
       "<style scoped>\n",
       "    .dataframe tbody tr th:only-of-type {\n",
       "        vertical-align: middle;\n",
       "    }\n",
       "\n",
       "    .dataframe tbody tr th {\n",
       "        vertical-align: top;\n",
       "    }\n",
       "\n",
       "    .dataframe thead th {\n",
       "        text-align: right;\n",
       "    }\n",
       "</style>\n",
       "<table border=\"1\" class=\"dataframe\">\n",
       "  <thead>\n",
       "    <tr style=\"text-align: right;\">\n",
       "      <th></th>\n",
       "      <th>Name</th>\n",
       "      <th>0</th>\n",
       "    </tr>\n",
       "  </thead>\n",
       "  <tbody>\n",
       "    <tr>\n",
       "      <th>0</th>\n",
       "      <td>tyrion lannister</td>\n",
       "      <td>1760</td>\n",
       "    </tr>\n",
       "    <tr>\n",
       "      <th>1</th>\n",
       "      <td>jon snow</td>\n",
       "      <td>1133</td>\n",
       "    </tr>\n",
       "    <tr>\n",
       "      <th>2</th>\n",
       "      <td>daenerys targaryen</td>\n",
       "      <td>1048</td>\n",
       "    </tr>\n",
       "    <tr>\n",
       "      <th>3</th>\n",
       "      <td>cersei lannister</td>\n",
       "      <td>1005</td>\n",
       "    </tr>\n",
       "    <tr>\n",
       "      <th>4</th>\n",
       "      <td>jaime lannister</td>\n",
       "      <td>945</td>\n",
       "    </tr>\n",
       "    <tr>\n",
       "      <th>5</th>\n",
       "      <td>sansa stark</td>\n",
       "      <td>784</td>\n",
       "    </tr>\n",
       "    <tr>\n",
       "      <th>6</th>\n",
       "      <td>arya stark</td>\n",
       "      <td>783</td>\n",
       "    </tr>\n",
       "    <tr>\n",
       "      <th>7</th>\n",
       "      <td>davos</td>\n",
       "      <td>528</td>\n",
       "    </tr>\n",
       "    <tr>\n",
       "      <th>8</th>\n",
       "      <td>theon greyjoy</td>\n",
       "      <td>455</td>\n",
       "    </tr>\n",
       "    <tr>\n",
       "      <th>9</th>\n",
       "      <td>petyr baelish</td>\n",
       "      <td>449</td>\n",
       "    </tr>\n",
       "  </tbody>\n",
       "</table>\n",
       "</div>"
      ],
      "text/plain": [
       "                 Name     0\n",
       "0    tyrion lannister  1760\n",
       "1            jon snow  1133\n",
       "2  daenerys targaryen  1048\n",
       "3    cersei lannister  1005\n",
       "4     jaime lannister   945\n",
       "5         sansa stark   784\n",
       "6          arya stark   783\n",
       "7               davos   528\n",
       "8       theon greyjoy   455\n",
       "9       petyr baelish   449"
      ]
     },
     "execution_count": 8,
     "metadata": {},
     "output_type": "execute_result"
    }
   ],
   "source": [
    "top_10 = df[['Name']].value_counts().head(10).reset_index()\n",
    "top_10"
   ]
  },
  {
   "cell_type": "markdown",
   "id": "9d5d7d9d",
   "metadata": {
    "papermill": {
     "duration": 0.009058,
     "end_time": "2022-11-24T13:52:04.783424",
     "exception": false,
     "start_time": "2022-11-24T13:52:04.774366",
     "status": "completed"
    },
    "tags": []
   },
   "source": [
    "Tyrion Lannister rocks the top, followed by Jon Snow. Let us make a quick plot for our satisfaction."
   ]
  },
  {
   "cell_type": "code",
   "execution_count": 9,
   "id": "1dffb74e",
   "metadata": {
    "execution": {
     "iopub.execute_input": "2022-11-24T13:52:04.803568Z",
     "iopub.status.busy": "2022-11-24T13:52:04.803130Z",
     "iopub.status.idle": "2022-11-24T13:52:05.136012Z",
     "shell.execute_reply": "2022-11-24T13:52:05.134663Z"
    },
    "papermill": {
     "duration": 0.346154,
     "end_time": "2022-11-24T13:52:05.138684",
     "exception": false,
     "start_time": "2022-11-24T13:52:04.792530",
     "status": "completed"
    },
    "tags": []
   },
   "outputs": [
    {
     "data": {
      "text/plain": [
       "<AxesSubplot:title={'center':'Top 10 Characters with lines'}, ylabel='Character'>"
      ]
     },
     "execution_count": 9,
     "metadata": {},
     "output_type": "execute_result"
    },
    {
     "data": {
      "image/png": "[encoded data removed]",
      "text/plain": [
       "<Figure size 432x288 with 1 Axes>"
      ]
     },
     "metadata": {
      "needs_background": "light"
     },
     "output_type": "display_data"
    }
   ],
   "source": [
    "top_10.plot(x='Name',kind='barh', title='Top 10 Characters with lines',\n",
    "            xlabel='Character', ylabel='No. of Lines'\n",
    "           )"
   ]
  },
  {
   "cell_type": "markdown",
   "id": "d435330b",
   "metadata": {
    "papermill": {
     "duration": 0.009176,
     "end_time": "2022-11-24T13:52:05.157790",
     "exception": false,
     "start_time": "2022-11-24T13:52:05.148614",
     "status": "completed"
    },
    "tags": []
   },
   "source": [
    "We have our guy. Now comes the question,"
   ]
  },
  {
   "cell_type": "markdown",
   "id": "1a48a0f0",
   "metadata": {
    "papermill": {
     "duration": 0.009199,
     "end_time": "2022-11-24T13:52:05.176506",
     "exception": false,
     "start_time": "2022-11-24T13:52:05.167307",
     "status": "completed"
    },
    "tags": []
   },
   "source": [
    "### What words did he speak the most?"
   ]
  },
  {
   "cell_type": "markdown",
   "id": "120d92cf",
   "metadata": {
    "papermill": {
     "duration": 0.009174,
     "end_time": "2022-11-24T13:52:05.195404",
     "exception": false,
     "start_time": "2022-11-24T13:52:05.186230",
     "status": "completed"
    },
    "tags": []
   },
   "source": [
    "We will extract Tyrion's lines to a different data frame."
   ]
  },
  {
   "cell_type": "code",
   "execution_count": 10,
   "id": "1d9cff7c",
   "metadata": {
    "execution": {
     "iopub.execute_input": "2022-11-24T13:52:05.216793Z",
     "iopub.status.busy": "2022-11-24T13:52:05.216389Z",
     "iopub.status.idle": "2022-11-24T13:52:05.222399Z",
     "shell.execute_reply": "2022-11-24T13:52:05.221528Z"
    },
    "papermill": {
     "duration": 0.019263,
     "end_time": "2022-11-24T13:52:05.224793",
     "exception": false,
     "start_time": "2022-11-24T13:52:05.205530",
     "status": "completed"
    },
    "tags": []
   },
   "outputs": [],
   "source": [
    "tyrion_lannister = df.loc[df.Name=='tyrion lannister','Sentence']"
   ]
  },
  {
   "cell_type": "markdown",
   "id": "aa3425ff",
   "metadata": {
    "papermill": {
     "duration": 0.0097,
     "end_time": "2022-11-24T13:52:05.244680",
     "exception": false,
     "start_time": "2022-11-24T13:52:05.234980",
     "status": "completed"
    },
    "tags": []
   },
   "source": [
    "We will do some quick string manipulations to split the lines into words."
   ]
  },
  {
   "cell_type": "code",
   "execution_count": 11,
   "id": "a05f0771",
   "metadata": {
    "execution": {
     "iopub.execute_input": "2022-11-24T13:52:05.265380Z",
     "iopub.status.busy": "2022-11-24T13:52:05.264928Z",
     "iopub.status.idle": "2022-11-24T13:52:05.286612Z",
     "shell.execute_reply": "2022-11-24T13:52:05.285378Z"
    },
    "papermill": {
     "duration": 0.034921,
     "end_time": "2022-11-24T13:52:05.289098",
     "exception": false,
     "start_time": "2022-11-24T13:52:05.254177",
     "status": "completed"
    },
    "tags": []
   },
   "outputs": [
    {
     "data": {
      "text/plain": [
       "145    [mmh, it, is, true, what, they, say, about, th...\n",
       "147               [i, did, hear, something, about, that]\n",
       "149                           [and, the, other, brother]\n",
       "151    [there's, the, pretty, one, and, there's, the,...\n",
       "153                 [i, hear, he, hates, that, nickname]\n",
       "Name: Sentence, dtype: object"
      ]
     },
     "execution_count": 11,
     "metadata": {},
     "output_type": "execute_result"
    }
   ],
   "source": [
    "tyrion_lannister = tyrion_lannister. \\\n",
    "        str.replace('[,.?!-]','', regex=True). \\\n",
    "        str.lower(). \\\n",
    "        str.split()\n",
    "tyrion_lannister.head()"
   ]
  },
  {
   "cell_type": "markdown",
   "id": "64277982",
   "metadata": {
    "papermill": {
     "duration": 0.010027,
     "end_time": "2022-11-24T13:52:05.308806",
     "exception": false,
     "start_time": "2022-11-24T13:52:05.298779",
     "status": "completed"
    },
    "tags": []
   },
   "source": [
    "We have a list under `Sentence` after splitting. A list is not so lovely inside a data frame. So let us explode it into long-form data."
   ]
  },
  {
   "cell_type": "code",
   "execution_count": 12,
   "id": "a05c1922",
   "metadata": {
    "execution": {
     "iopub.execute_input": "2022-11-24T13:52:05.330155Z",
     "iopub.status.busy": "2022-11-24T13:52:05.329725Z",
     "iopub.status.idle": "2022-11-24T13:52:05.335938Z",
     "shell.execute_reply": "2022-11-24T13:52:05.334868Z"
    },
    "papermill": {
     "duration": 0.019714,
     "end_time": "2022-11-24T13:52:05.338288",
     "exception": false,
     "start_time": "2022-11-24T13:52:05.318574",
     "status": "completed"
    },
    "tags": []
   },
   "outputs": [],
   "source": [
    "tyrion_lannister = tyrion_lannister.explode('Sentence')"
   ]
  },
  {
   "cell_type": "code",
   "execution_count": 13,
   "id": "508d87a1",
   "metadata": {
    "execution": {
     "iopub.execute_input": "2022-11-24T13:52:05.360045Z",
     "iopub.status.busy": "2022-11-24T13:52:05.359625Z",
     "iopub.status.idle": "2022-11-24T13:52:05.372931Z",
     "shell.execute_reply": "2022-11-24T13:52:05.371715Z"
    },
    "papermill": {
     "duration": 0.026636,
     "end_time": "2022-11-24T13:52:05.375303",
     "exception": false,
     "start_time": "2022-11-24T13:52:05.348667",
     "status": "completed"
    },
    "tags": []
   },
   "outputs": [
    {
     "data": {
      "text/plain": [
       "the    1094\n",
       "you     864\n",
       "i       772\n",
       "to      771\n",
       "a       605\n",
       "of      513\n",
       "and     435\n",
       "my      307\n",
       "it      290\n",
       "me      276\n",
       "Name: Sentence, dtype: int64"
      ]
     },
     "execution_count": 13,
     "metadata": {},
     "output_type": "execute_result"
    }
   ],
   "source": [
    "tyrion_lannister.value_counts().head(10)"
   ]
  },
  {
   "cell_type": "markdown",
   "id": "d892a532",
   "metadata": {
    "papermill": {
     "duration": 0.0094,
     "end_time": "2022-11-24T13:52:05.394554",
     "exception": false,
     "start_time": "2022-11-24T13:52:05.385154",
     "status": "completed"
    },
    "tags": []
   },
   "source": [
    "Oh my, the top spoken words are all [stop words](https://www.opinosis-analytics.com/knowledge-base/stop-words-explained/). To give a quick rundown, stop words make sense in a sentence but are nonsensical without context. Since we are looking at individual words, it is safe to remove them.\n",
    "\n",
    "I have tried four libraries-`wordcloud`, `Scikit-Learn`, `Natural Language Toolkit (NLTK)`, and `spaCy`. I liked the output from `wordcloud` the best. So we will just go ahead with it."
   ]
  },
  {
   "cell_type": "code",
   "execution_count": 14,
   "id": "0f16455f",
   "metadata": {
    "execution": {
     "iopub.execute_input": "2022-11-24T13:52:05.416949Z",
     "iopub.status.busy": "2022-11-24T13:52:05.416138Z",
     "iopub.status.idle": "2022-11-24T13:52:07.224602Z",
     "shell.execute_reply": "2022-11-24T13:52:07.223353Z"
    },
    "papermill": {
     "duration": 1.823606,
     "end_time": "2022-11-24T13:52:07.227970",
     "exception": false,
     "start_time": "2022-11-24T13:52:05.404364",
     "status": "completed"
    },
    "tags": []
   },
   "outputs": [],
   "source": [
    "from nltk.corpus import stopwords\n",
    "sw_nltk = stopwords.words('english')\n",
    "tyrion_lannister = tyrion_lannister[~tyrion_lannister.isin(sw_nltk)]"
   ]
  },
  {
   "cell_type": "code",
   "execution_count": 15,
   "id": "c16bcadf",
   "metadata": {
    "execution": {
     "iopub.execute_input": "2022-11-24T13:52:07.253986Z",
     "iopub.status.busy": "2022-11-24T13:52:07.253193Z",
     "iopub.status.idle": "2022-11-24T13:52:07.266935Z",
     "shell.execute_reply": "2022-11-24T13:52:07.265462Z"
    },
    "papermill": {
     "duration": 0.0285,
     "end_time": "2022-11-24T13:52:07.270058",
     "exception": false,
     "start_time": "2022-11-24T13:52:07.241558",
     "status": "completed"
    },
    "tags": []
   },
   "outputs": [
    {
     "data": {
      "text/plain": [
       "i'm       130\n",
       "know      109\n",
       "one       100\n",
       "would      89\n",
       "father     83\n",
       "like       77\n",
       "well       73\n",
       "want       72\n",
       "good       66\n",
       "yes        58\n",
       "Name: Sentence, dtype: int64"
      ]
     },
     "execution_count": 15,
     "metadata": {},
     "output_type": "execute_result"
    }
   ],
   "source": [
    "tyrion_lannister.value_counts().head(10)"
   ]
  },
  {
   "cell_type": "markdown",
   "id": "2d99547f",
   "metadata": {
    "papermill": {
     "duration": 0.009368,
     "end_time": "2022-11-24T13:52:07.289836",
     "exception": false,
     "start_time": "2022-11-24T13:52:07.280468",
     "status": "completed"
    },
    "tags": []
   },
   "source": [
    "Now that is a lot better."
   ]
  },
  {
   "cell_type": "code",
   "execution_count": 16,
   "id": "baf27e90",
   "metadata": {
    "execution": {
     "iopub.execute_input": "2022-11-24T13:52:07.310917Z",
     "iopub.status.busy": "2022-11-24T13:52:07.310389Z",
     "iopub.status.idle": "2022-11-24T13:52:07.344217Z",
     "shell.execute_reply": "2022-11-24T13:52:07.343320Z"
    },
    "papermill": {
     "duration": 0.04744,
     "end_time": "2022-11-24T13:52:07.346915",
     "exception": false,
     "start_time": "2022-11-24T13:52:07.299475",
     "status": "completed"
    },
    "tags": []
   },
   "outputs": [],
   "source": [
    "from wordcloud import WordCloud, STOPWORDS\n",
    "tyrion_wc = WordCloud(\n",
    "    background_color='white',\n",
    "    max_words=2000,\n",
    "    stopwords=STOPWORDS\n",
    ")"
   ]
  },
  {
   "cell_type": "code",
   "execution_count": 17,
   "id": "e958bc39",
   "metadata": {
    "execution": {
     "iopub.execute_input": "2022-11-24T13:52:07.369070Z",
     "iopub.status.busy": "2022-11-24T13:52:07.368212Z",
     "iopub.status.idle": "2022-11-24T13:52:07.763531Z",
     "shell.execute_reply": "2022-11-24T13:52:07.762613Z"
    },
    "papermill": {
     "duration": 0.408803,
     "end_time": "2022-11-24T13:52:07.765746",
     "exception": false,
     "start_time": "2022-11-24T13:52:07.356943",
     "status": "completed"
    },
    "tags": []
   },
   "outputs": [
    {
     "data": {
      "text/plain": [
       "<wordcloud.wordcloud.WordCloud at 0x7f060689e510>"
      ]
     },
     "execution_count": 17,
     "metadata": {},
     "output_type": "execute_result"
    }
   ],
   "source": [
    "tyrion_wc.generate(' '.join(tyrion_lannister.values))"
   ]
  },
  {
   "cell_type": "code",
   "execution_count": 18,
   "id": "87b135ac",
   "metadata": {
    "execution": {
     "iopub.execute_input": "2022-11-24T13:52:07.787958Z",
     "iopub.status.busy": "2022-11-24T13:52:07.787334Z",
     "iopub.status.idle": "2022-11-24T13:52:08.009151Z",
     "shell.execute_reply": "2022-11-24T13:52:08.008286Z"
    },
    "papermill": {
     "duration": 0.236977,
     "end_time": "2022-11-24T13:52:08.013065",
     "exception": false,
     "start_time": "2022-11-24T13:52:07.776088",
     "status": "completed"
    },
    "tags": []
   },
   "outputs": [
    {
     "data": {
      "image/png": "[encoded data removed]",
      "text/plain": [
       "<Figure size 432x288 with 1 Axes>"
      ]
     },
     "metadata": {
      "needs_background": "light"
     },
     "output_type": "display_data"
    }
   ],
   "source": [
    "plt.imshow(tyrion_wc, interpolation='bilinear')\n",
    "plt.axis('off')\n",
    "plt.show()"
   ]
  }
 ],
 "metadata": {
  "kernelspec": {
   "display_name": "Python 3",
   "language": "python",
   "name": "python3"
  },
  "language_info": {
   "codemirror_mode": {
    "name": "ipython",
    "version": 3
   },
   "file_extension": ".py",
   "mimetype": "text/x-python",
   "name": "python",
   "nbconvert_exporter": "python",
   "pygments_lexer": "ipython3",
   "version": "3.7.12"
  },
  "papermill": {
   "default_parameters": {},
   "duration": 14.044995,
   "end_time": "2022-11-24T13:52:08.849035",
   "environment_variables": {},
   "exception": null,
   "input_path": "__notebook__.ipynb",
   "output_path": "__notebook__.ipynb",
   "parameters": {},
   "start_time": "2022-11-24T13:51:54.804040",
   "version": "2.3.4"
  }
 },
 "nbformat": 4,
 "nbformat_minor": 5
}
